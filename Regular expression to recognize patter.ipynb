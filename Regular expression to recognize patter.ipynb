{
 "cells": [
  {
   "cell_type": "markdown",
   "metadata": {},
   "source": [
    "# Write a function called isphonenumber () to recognize a pattern 415-555- 4242 without using regular expression and also write the code to recognize the same pattern using regular expression. "
   ]
  },
  {
   "cell_type": "code",
   "execution_count": 1,
   "metadata": {},
   "outputs": [],
   "source": [
    "import re\n",
    "\n",
    "\n",
    "def isphonenumber(numStr):\n",
    "    if len(numStr) != 12:\n",
    "        return False\n",
    "    for i in range(len(numStr)):\n",
    "        if i==3 or i==7:\n",
    "            if numStr[i] != \"-\":\n",
    "                return False\n",
    "        else:\n",
    "            if numStr[i].isdigit() == False:\n",
    "                return False\n",
    "    return True\n",
    "\n",
    "\n",
    "def chkphonenumber(numStr):\n",
    "    ph_no_pattern = re.compile(r'^\\d{3}-\\d{3}-\\d{4}$')\n",
    "    if ph_no_pattern.match(numStr):\n",
    "        return True\n",
    "    else:\n",
    "        return False"
   ]
  },
  {
   "cell_type": "code",
   "execution_count": 8,
   "metadata": {},
   "outputs": [
    {
     "name": "stdout",
     "output_type": "stream",
     "text": [
      "Enter a phone number : 415-555-4242\n",
      "Without using Regular Expression\n",
      "Valid phone number\n",
      "Using Regular Expression\n",
      "Valid phone number\n"
     ]
    }
   ],
   "source": [
    "ph_num = input(\"Enter a phone number : \")\n",
    "print(\"Without using Regular Expression\")\n",
    "if isphonenumber(ph_num):\n",
    "    print(\"Valid phone number\")\n",
    "else:\n",
    "    print(\"Invalid phone number\")\n",
    "\n",
    "print(\"Using Regular Expression\")\n",
    "if chkphonenumber(ph_num):\n",
    "    print(\"Valid phone number\")\n",
    "else:\n",
    "    print(\"Invalid phone number\")"
   ]
  }
 ],
 "metadata": {
  "kernelspec": {
   "display_name": "Python 3",
   "language": "python",
   "name": "python3"
  },
  "language_info": {
   "codemirror_mode": {
    "name": "ipython",
    "version": 3
   },
   "file_extension": ".py",
   "mimetype": "text/x-python",
   "name": "python",
   "nbconvert_exporter": "python",
   "pygments_lexer": "ipython3",
   "version": "3.7.4"
  }
 },
 "nbformat": 4,
 "nbformat_minor": 2
}
