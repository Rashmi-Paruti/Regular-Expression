{
 "cells": [
  {
   "cell_type": "markdown",
   "metadata": {},
   "source": [
    "# Develop a python program that could search the text in a file for phone numbers (+919900889977) and email addresses (sample@gmail.com) "
   ]
  },
  {
   "cell_type": "code",
   "execution_count": 3,
   "metadata": {},
   "outputs": [
    {
     "name": "stdout",
     "output_type": "stream",
     "text": [
      "+919900889977\n",
      "sample@gmail.com\n"
     ]
    }
   ],
   "source": [
    "import re\n",
    "\n",
    "# Define the regular expression for phone numbers\n",
    "phone_regex = re.compile(r'\\+\\d{12}')\n",
    "email_regex = re.compile(r'[A-Za-z0-9._]+@[A-Za-z0-9]+\\.[A-Z|a-z]{2,}')\n",
    "# Open the file for reading\n",
    "with open('example.txt') as f:\n",
    "    # Loop through each line in the file\n",
    "    for line in f:\n",
    "        # Search for phone numbers in the line\n",
    "        matches = phone_regex.findall(line)\n",
    "        # Print any matches found\n",
    "        for match in matches:\n",
    "            print(match)\n",
    "\n",
    "        matches = email_regex.findall(line)\n",
    "        # Print any matches found\n",
    "        for match in matches:\n",
    "            print(match)            "
   ]
  }
 ],
 "metadata": {
  "kernelspec": {
   "display_name": "Python 3",
   "language": "python",
   "name": "python3"
  },
  "language_info": {
   "codemirror_mode": {
    "name": "ipython",
    "version": 3
   },
   "file_extension": ".py",
   "mimetype": "text/x-python",
   "name": "python",
   "nbconvert_exporter": "python",
   "pygments_lexer": "ipython3",
   "version": "3.7.4"
  }
 },
 "nbformat": 4,
 "nbformat_minor": 2
}
